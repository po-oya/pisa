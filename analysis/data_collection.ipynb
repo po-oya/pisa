{
 "cells": [
  {
   "cell_type": "code",
   "execution_count": 1,
   "metadata": {},
   "outputs": [],
   "source": [
    "import pandas as pd\n",
    "import numpy as np\n",
    "import matplotlib"
   ]
  },
  {
   "cell_type": "code",
   "execution_count": 4,
   "metadata": {},
   "outputs": [],
   "source": [
    "def parse_line(line):\n",
    "    pairs = line.strip().split(',')\n",
    "    data = {}\n",
    "    for pair in pairs:\n",
    "        if ':' in pair:\n",
    "            key, value = pair.split(':', 1)\n",
    "            data[key.strip()] = float(value.strip())\n",
    "    return data"
   ]
  },
  {
   "cell_type": "code",
   "execution_count": 35,
   "metadata": {},
   "outputs": [
    {
     "data": {
      "text/html": [
       "<div>\n",
       "<style scoped>\n",
       "    .dataframe tbody tr th:only-of-type {\n",
       "        vertical-align: middle;\n",
       "    }\n",
       "\n",
       "    .dataframe tbody tr th {\n",
       "        vertical-align: top;\n",
       "    }\n",
       "\n",
       "    .dataframe thead th {\n",
       "        text-align: right;\n",
       "    }\n",
       "</style>\n",
       "<table border=\"1\" class=\"dataframe\">\n",
       "  <thead>\n",
       "    <tr style=\"text-align: right;\">\n",
       "      <th></th>\n",
       "      <th>qid</th>\n",
       "      <th>termcnt</th>\n",
       "      <th>wcnt</th>\n",
       "      <th>non_es</th>\n",
       "      <th>f1</th>\n",
       "      <th>f2</th>\n",
       "      <th>f3</th>\n",
       "      <th>p1</th>\n",
       "      <th>p2</th>\n",
       "      <th>p3</th>\n",
       "      <th>p4</th>\n",
       "      <th>p5</th>\n",
       "      <th>p6</th>\n",
       "      <th>p7</th>\n",
       "      <th>br1</th>\n",
       "      <th>br2</th>\n",
       "    </tr>\n",
       "  </thead>\n",
       "  <tbody>\n",
       "    <tr>\n",
       "      <th>6979</th>\n",
       "      <td>1048565.0</td>\n",
       "      <td>4.0</td>\n",
       "      <td>148616.0</td>\n",
       "      <td>1.0</td>\n",
       "      <td>481159.0</td>\n",
       "      <td>113305.0</td>\n",
       "      <td>31664.0</td>\n",
       "      <td>152198.0</td>\n",
       "      <td>178376.0</td>\n",
       "      <td>388.0</td>\n",
       "      <td>37228.0</td>\n",
       "      <td>316.0</td>\n",
       "      <td>9192.0</td>\n",
       "      <td>1.0</td>\n",
       "      <td>81641.0</td>\n",
       "      <td>28037.0</td>\n",
       "    </tr>\n",
       "  </tbody>\n",
       "</table>\n",
       "</div>"
      ],
      "text/plain": [
       "            qid  termcnt      wcnt  non_es        f1        f2       f3  \\\n",
       "6979  1048565.0      4.0  148616.0     1.0  481159.0  113305.0  31664.0   \n",
       "\n",
       "            p1        p2     p3       p4     p5      p6   p7      br1      br2  \n",
       "6979  152198.0  178376.0  388.0  37228.0  316.0  9192.0  1.0  81641.0  28037.0  "
      ]
     },
     "execution_count": 35,
     "metadata": {},
     "output_type": "execute_result"
    }
   ],
   "source": [
    "# Read the file and parse each line\n",
    "file_path = \"./logs/level_5_small.trec\"  # Replace with your file path\n",
    "data = []\n",
    "\n",
    "with open(file_path, 'r') as file:\n",
    "    for line in file:\n",
    "        if line.strip():  # Skip empty lines\n",
    "            parsed_data = parse_line(line)\n",
    "            data.append(parsed_data)\n",
    "\n",
    "# Create DataFrame\n",
    "df = pd.DataFrame(data)\n",
    "\n",
    "# df = df.set_index(\"qid\")\n",
    "# Display the DataFrame\n",
    "df.iloc[[-1]]\n"
   ]
  },
  {
   "cell_type": "code",
   "execution_count": 30,
   "metadata": {},
   "outputs": [
    {
     "data": {
      "text/plain": [
       "<Axes: >"
      ]
     },
     "execution_count": 30,
     "metadata": {},
     "output_type": "execute_result"
    },
    {
     "data": {
      "image/png": "[encoded data removed]",
      "text/plain": [
       "<Figure size 640x480 with 1 Axes>"
      ]
     },
     "metadata": {},
     "output_type": "display_data"
    }
   ],
   "source": [
    "df_cols = df.columns.to_list()\n",
    "\n",
    "df.boxplot(column=df_cols[2:])\n"
   ]
  },
  {
   "cell_type": "code",
   "execution_count": null,
   "metadata": {},
   "outputs": [],
   "source": []
  },
  {
   "cell_type": "code",
   "execution_count": null,
   "metadata": {},
   "outputs": [],
   "source": []
  }
 ],
 "metadata": {
  "kernelspec": {
   "display_name": "Python 3 (ipykernel)",
   "language": "python",
   "name": "python3"
  },
  "language_info": {
   "codemirror_mode": {
    "name": "ipython",
    "version": 3
   },
   "file_extension": ".py",
   "mimetype": "text/x-python",
   "name": "python",
   "nbconvert_exporter": "python",
   "pygments_lexer": "ipython3",
   "version": "3.12.4"
  }
 },
 "nbformat": 4,
 "nbformat_minor": 4
}
